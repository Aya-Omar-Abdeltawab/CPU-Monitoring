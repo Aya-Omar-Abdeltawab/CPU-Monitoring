{
 "cells": [
  {
   "cell_type": "code",
   "execution_count": 1,
   "metadata": {},
   "outputs": [],
   "source": [
    "import psutil\n",
    "import time\n",
    "import plotly.graph_objects as go\n",
    "from IPython.display import display, clear_output"
   ]
  },
  {
   "cell_type": "code",
   "execution_count": 2,
   "metadata": {},
   "outputs": [],
   "source": [
    "# Lists to store data\n",
    "time_stamps = []\n",
    "cpu_usage_list = []\n",
    "mean_list = []\n",
    "t1_list = []\n",
    "t2_list = []"
   ]
  },
  {
   "cell_type": "code",
   "execution_count": 3,
   "metadata": {},
   "outputs": [
    {
     "name": "stdout",
     "output_type": "stream",
     "text": [
      "An error occurred: Mime type rendering requires nbformat>=4.2.0 but it is not installed\n"
     ]
    }
   ],
   "source": [
    "# Function to monitor CPU usage and update the graph\n",
    "def monitor_cpu_usage(interval=60):\n",
    "    fig = go.Figure()\n",
    "    start_time = time.time()\n",
    "\n",
    "    while True:  \n",
    "        current_time = round(time.time() - start_time, 2)\n",
    "        cpu_usage = psutil.cpu_percent(interval=1)\n",
    "\n",
    "        # Compute new mean and thresholds\n",
    "        mean_value = sum(cpu_usage_list) / len(cpu_usage_list) if cpu_usage_list else cpu_usage\n",
    "        t1_threshold = mean_value * 3\n",
    "        t2_threshold = mean_value * 4\n",
    "\n",
    "        # Append new values\n",
    "        time_stamps.append(current_time)\n",
    "        cpu_usage_list.append(cpu_usage)\n",
    "        mean_list.append(mean_value)\n",
    "        t1_list.append(t1_threshold)\n",
    "        t2_list.append(t2_threshold)\n",
    "\n",
    "        # Clear output to update graph in the same cell\n",
    "        clear_output(wait=True)\n",
    "\n",
    "        # Update figure without resetting data\n",
    "        fig.data = []  # Clear previous traces before adding new ones\n",
    "\n",
    "        fig.add_trace(go.Scatter(x=time_stamps, y=cpu_usage_list, mode='lines+markers', name='CPU Usage', line=dict(color='lightblue')))  \n",
    "        fig.add_trace(go.Scatter(x=time_stamps, y=mean_list, mode='lines', name='New Mean', line=dict(color='yellow', dash='dash')))  \n",
    "        fig.add_trace(go.Scatter(x=time_stamps, y=t1_list, mode='lines', name='T1 Threshold', line=dict(color='fuchsia', dash='dot')))  \n",
    "        fig.add_trace(go.Scatter(x=time_stamps, y=t2_list, mode='lines', name='T2 Threshold', line=dict(color='green', dash='dash'))) \n",
    "\n",
    "        # Update layout\n",
    "        fig.update_layout(title=\"CPU Usage Monitoring with Bayesian Updating\",\n",
    "                          xaxis_title=\"Time (seconds)\",\n",
    "                          yaxis_title=\"CPU Usage (%)\",\n",
    "                          template=\"plotly_dark\",\n",
    "                          legend=dict(x=1, y=1))\n",
    "\n",
    "        # Display the data in table format\n",
    "        print(\"\\n\".join([f\"Minute {i+1} - CPU Usage: {cpu_usage_list[i]:.2f}% | Mean: {mean_list[i]:.2f}, T1: {t1_list[i]:.2f}, T2: {t2_list[i]:.2f}\"\n",
    "                         for i in range(len(cpu_usage_list))]))\n",
    "\n",
    "        # Show the updated graph\n",
    "        display(fig)\n",
    "\n",
    "        # Wait before next reading\n",
    "        time.sleep(interval - 1)\n",
    "\n",
    "# Run the function\n",
    "monitor_cpu_usage(interval=60)\n"
   ]
  },
  {
   "cell_type": "code",
   "execution_count": null,
   "metadata": {},
   "outputs": [],
   "source": []
  }
 ],
 "metadata": {
  "kernelspec": {
   "display_name": "Python 3",
   "language": "python",
   "name": "python3"
  },
  "language_info": {
   "codemirror_mode": {
    "name": "ipython",
    "version": 3
   },
   "file_extension": ".py",
   "mimetype": "text/x-python",
   "name": "python",
   "nbconvert_exporter": "python",
   "pygments_lexer": "ipython3",
   "version": "3.12.9"
  }
 },
 "nbformat": 4,
 "nbformat_minor": 2
}
